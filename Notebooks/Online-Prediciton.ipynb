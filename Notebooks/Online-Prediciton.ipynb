{
 "cells": [
  {
   "cell_type": "code",
   "execution_count": 1,
   "id": "b8a6efe0-2da3-433d-a0c4-c56aa27c2e0b",
   "metadata": {},
   "outputs": [
    {
     "name": "stderr",
     "output_type": "stream",
     "text": [
      "2023-12-14 00:34:49.508327: I tensorflow/core/platform/cpu_feature_guard.cc:182] This TensorFlow binary is optimized to use available CPU instructions in performance-critical operations.\n",
      "To enable the following instructions: AVX2 FMA, in other operations, rebuild TensorFlow with the appropriate compiler flags.\n",
      "2023-12-14 00:34:58.485157: W tensorflow/compiler/tf2tensorrt/utils/py_utils.cc:38] TF-TRT Warning: Could not find TensorRT\n"
     ]
    }
   ],
   "source": [
    "import tensorflow as tf"
   ]
  },
  {
   "cell_type": "code",
   "execution_count": 1,
   "id": "6cb55fa3-fabf-4a02-8bb6-2b11098715f8",
   "metadata": {},
   "outputs": [
    {
     "name": "stderr",
     "output_type": "stream",
     "text": [
      "2023-12-14 18:22:09.175539: I tensorflow/core/platform/cpu_feature_guard.cc:182] This TensorFlow binary is optimized to use available CPU instructions in performance-critical operations.\n",
      "To enable the following instructions: AVX2 FMA, in other operations, rebuild TensorFlow with the appropriate compiler flags.\n",
      "2023-12-14 18:22:18.342000: W tensorflow/compiler/tf2tensorrt/utils/py_utils.cc:38] TF-TRT Warning: Could not find TensorRT\n"
     ]
    }
   ],
   "source": [
    "from google.cloud import storage\n",
    "import tensorflow as tf\n",
    "import os\n",
    "import base64"
   ]
  },
  {
   "cell_type": "code",
   "execution_count": 2,
   "id": "b994c5fe-5385-4c41-aaf4-874a85a60d84",
   "metadata": {},
   "outputs": [],
   "source": [
    "GOOGLE_CLOUD_PROJECT = 'mlops-363723'         \n",
    "GOOGLE_CLOUD_PROJECT_NUMBER = '75674212269'  \n",
    "GOOGLE_CLOUD_REGION = 'us-central1'          \n",
    "GCS_BUCKET_NAME = 'chicago_taxitrips'  "
   ]
  },
  {
   "cell_type": "code",
   "execution_count": 4,
   "id": "bfda34f7-b4f0-4217-9070-f5f5ccf1fedb",
   "metadata": {},
   "outputs": [],
   "source": [
    "def create_tf_example(features):\n",
    "    feature_dict = {}\n",
    "    for key, value in features.items():\n",
    "        if isinstance(value, float):\n",
    "            feature_dict[key] = tf.train.Feature(float_list=tf.train.FloatList(value=[value]))\n",
    "        elif isinstance(value, int):\n",
    "            feature_dict[key] = tf.train.Feature(int64_list=tf.train.Int64List(value=[value]))\n",
    "    return tf.train.Example(features=tf.train.Features(feature=feature_dict))\n",
    "\n",
    "serialized_example = create_tf_example(raw_features).SerializeToString()\n"
   ]
  },
  {
   "cell_type": "code",
   "execution_count": 11,
   "id": "7a157c71-b611-4956-be66-d03b752cade7",
   "metadata": {},
   "outputs": [],
   "source": [
    "raw_features = {\n",
    "    'day': 26,\n",
    "    'year': 2023,\n",
    "    'demand': 8,\n",
    "    'month': 7,\n",
    "    'hour': 1,\n",
    "    'pickup_community_area': 16,\n",
    "    'duration': 2.0,\n",
    "    'trip_miles': 9.225,\n",
    "    'trip_total': 2.35,\n",
    "    'temperature_2m': 9.25, \n",
    "    'relativehumidity_2m': 84, \n",
    "    'precipitation': 0.0,  \n",
    "    'rain': 0.0,  \n",
    "    'snowfall': 0.0,  \n",
    "    'weathercode': 3, \n",
    "    'public_holiday': 0,  \n",
    "    'hour_sin': -0.51958395003511026, \n",
    "    'hour_cos': 0.85441940454668519, \n",
    "    'day_sin': 0.0,  \n",
    "    'day_cos': 1.0,  \n",
    "    'month_sin': 0.50000000000002986,  \n",
    "    'month_cos': 0.8660254037  \n",
    "}\n",
    "\n",
    "serialized_example = create_tf_example(raw_features).SerializeToString()\n",
    "\n",
    "# Proceed with the prediction request as before\n"
   ]
  },
  {
   "cell_type": "code",
   "execution_count": 6,
   "id": "2b7d9fea-6789-422d-8e9c-fbe84d977ec5",
   "metadata": {},
   "outputs": [],
   "source": [
    "from google.cloud import aiplatform\n",
    "\n",
    "def make_prediction(project_id, endpoint_id, location, instance):\n",
    "    \"\"\"Make a prediction request to a deployed model on Vertex AI.\"\"\"\n",
    "\n",
    "    # Initialize the client\n",
    "    client_options = {\"api_endpoint\": f\"{location}-aiplatform.googleapis.com\"}\n",
    "    client = aiplatform.gapic.PredictionServiceClient(client_options=client_options)\n",
    "\n",
    "    # Construct the full path of the endpoint\n",
    "    endpoint = client.endpoint_path(project=project_id, location=location, endpoint=endpoint_id)\n",
    "\n",
    "    # Construct the payload\n",
    "    payload = {\"instances\": [instance]}\n",
    "\n",
    "    # Make the prediction request\n",
    "    response = client.predict(endpoint=endpoint, instances=payload[\"instances\"])\n",
    "\n",
    "    return response\n",
    "\n",
    "# Prepare your instance (already serialized and base64-encoded)\n",
    "encoded_example = base64.b64encode(serialized_example).decode('utf-8')\n",
    "instance = {\"b64\": encoded_example}"
   ]
  },
  {
   "cell_type": "code",
   "execution_count": 7,
   "id": "49c69854-7b22-4f87-930a-ade657ebaacf",
   "metadata": {},
   "outputs": [
    {
     "name": "stdout",
     "output_type": "stream",
     "text": [
      "Prediction response: predictions {\n",
      "  list_value {\n",
      "    values {\n",
      "      number_value: 1.1016165\n",
      "    }\n",
      "  }\n",
      "}\n",
      "deployed_model_id: \"7298687927549165568\"\n",
      "model: \"projects/75674212269/locations/us-central1/models/5446485823769804800\"\n",
      "model_display_name: \"DNN-Customizable\"\n",
      "model_version_id: \"1\"\n",
      "\n"
     ]
    }
   ],
   "source": [
    "# Make the prediction request\n",
    "response = make_prediction(\n",
    "    project_id=\"75674212269\",\n",
    "    endpoint_id=\"8334344318030446592\",\n",
    "    location=\"us-central1\",\n",
    "    instance=instance\n",
    ")\n",
    "\n",
    "print(\"Prediction response:\", response)"
   ]
  },
  {
   "cell_type": "code",
   "execution_count": 13,
   "id": "28ebc1ec-ef57-41ab-ad01-859a712ca4a0",
   "metadata": {},
   "outputs": [
    {
     "name": "stdout",
     "output_type": "stream",
     "text": [
      "Prediction response: predictions {\n",
      "  list_value {\n",
      "    values {\n",
      "      number_value: 1.39632535\n",
      "    }\n",
      "  }\n",
      "}\n",
      "deployed_model_id: \"9118142177006845952\"\n",
      "model: \"projects/75674212269/locations/us-central1/models/5538528141154189312\"\n",
      "model_display_name: \"DNN-Demand\"\n",
      "model_version_id: \"1\"\n",
      "\n"
     ]
    }
   ],
   "source": [
    "from google.cloud import aiplatform\n",
    "\n",
    "def make_prediction(project_id, endpoint_id, location, instance):\n",
    "    \"\"\"Make a prediction request to a deployed model on Vertex AI.\"\"\"\n",
    "\n",
    "    # Initialize the client\n",
    "    client_options = {\"api_endpoint\": f\"{location}-aiplatform.googleapis.com\"}\n",
    "    client = aiplatform.gapic.PredictionServiceClient(client_options=client_options)\n",
    "\n",
    "    # Construct the full path of the endpoint\n",
    "    endpoint = client.endpoint_path(project=project_id, location=location, endpoint=endpoint_id)\n",
    "\n",
    "    # Construct the payload\n",
    "    payload = {\"instances\": [instance]}\n",
    "\n",
    "    # Make the prediction request\n",
    "    response = client.predict(endpoint=endpoint, instances=payload[\"instances\"])\n",
    "\n",
    "    return response\n",
    "\n",
    "# Prepare your instance (already serialized and base64-encoded)\n",
    "encoded_example = base64.b64encode(serialized_example).decode('utf-8')\n",
    "instance = {\"b64\": encoded_example}\n",
    "\n",
    "# Make the prediction request\n",
    "response = make_prediction(\n",
    "    project_id=\"75674212269\",\n",
    "    endpoint_id=\"4013140475568455680\",\n",
    "    location=\"us-central1\",\n",
    "    instance=instance\n",
    ")\n",
    "\n",
    "print(\"Prediction response:\", response)\n"
   ]
  },
  {
   "cell_type": "code",
   "execution_count": null,
   "id": "629ab28b-904c-4de2-94b1-57f92ee49b77",
   "metadata": {},
   "outputs": [],
   "source": []
  }
 ],
 "metadata": {
  "kernelspec": {
   "display_name": "TensorFlow 2.12 (Local)",
   "language": "python",
   "name": "local-tf2-2-12"
  },
  "language_info": {
   "codemirror_mode": {
    "name": "ipython",
    "version": 3
   },
   "file_extension": ".py",
   "mimetype": "text/x-python",
   "name": "python",
   "nbconvert_exporter": "python",
   "pygments_lexer": "ipython3",
   "version": "3.10.12"
  }
 },
 "nbformat": 4,
 "nbformat_minor": 5
}
